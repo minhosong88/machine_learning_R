{
 "cells": [
  {
   "attachments": {},
   "cell_type": "markdown",
   "metadata": {},
   "source": [
    "# Adult Salary with Logistic Regression"
   ]
  },
  {
   "cell_type": "code",
   "execution_count": 49,
   "metadata": {
    "vscode": {
     "languageId": "r"
    }
   },
   "outputs": [
    {
     "data": {
      "text/html": [
       "<table class=\"dataframe\">\n",
       "<caption>A data.frame: 6 × 16</caption>\n",
       "<thead>\n",
       "\t<tr><th></th><th scope=col>X</th><th scope=col>age</th><th scope=col>type_employer</th><th scope=col>fnlwgt</th><th scope=col>education</th><th scope=col>education_num</th><th scope=col>marital</th><th scope=col>occupation</th><th scope=col>relationship</th><th scope=col>race</th><th scope=col>sex</th><th scope=col>capital_gain</th><th scope=col>capital_loss</th><th scope=col>hr_per_week</th><th scope=col>country</th><th scope=col>income</th></tr>\n",
       "\t<tr><th></th><th scope=col>&lt;int&gt;</th><th scope=col>&lt;int&gt;</th><th scope=col>&lt;fct&gt;</th><th scope=col>&lt;int&gt;</th><th scope=col>&lt;fct&gt;</th><th scope=col>&lt;int&gt;</th><th scope=col>&lt;fct&gt;</th><th scope=col>&lt;fct&gt;</th><th scope=col>&lt;fct&gt;</th><th scope=col>&lt;fct&gt;</th><th scope=col>&lt;fct&gt;</th><th scope=col>&lt;int&gt;</th><th scope=col>&lt;int&gt;</th><th scope=col>&lt;int&gt;</th><th scope=col>&lt;fct&gt;</th><th scope=col>&lt;fct&gt;</th></tr>\n",
       "</thead>\n",
       "<tbody>\n",
       "\t<tr><th scope=row>1</th><td>1</td><td>39</td><td><span style=white-space:pre-wrap>State-gov       </span></td><td> 77516</td><td>Bachelors</td><td>13</td><td><span style=white-space:pre-wrap>Never-married     </span></td><td><span style=white-space:pre-wrap>Adm-clerical     </span></td><td>Not-in-family</td><td>White</td><td><span style=white-space:pre-wrap>Male  </span></td><td>2174</td><td>0</td><td>40</td><td>United-States</td><td>&lt;=50K</td></tr>\n",
       "\t<tr><th scope=row>2</th><td>2</td><td>50</td><td>Self-emp-not-inc</td><td> 83311</td><td>Bachelors</td><td>13</td><td>Married-civ-spouse</td><td><span style=white-space:pre-wrap>Exec-managerial  </span></td><td><span style=white-space:pre-wrap>Husband      </span></td><td>White</td><td><span style=white-space:pre-wrap>Male  </span></td><td><span style=white-space:pre-wrap>   0</span></td><td>0</td><td>13</td><td>United-States</td><td>&lt;=50K</td></tr>\n",
       "\t<tr><th scope=row>3</th><td>3</td><td>38</td><td><span style=white-space:pre-wrap>Private         </span></td><td>215646</td><td><span style=white-space:pre-wrap>HS-grad  </span></td><td> 9</td><td><span style=white-space:pre-wrap>Divorced          </span></td><td>Handlers-cleaners</td><td>Not-in-family</td><td>White</td><td><span style=white-space:pre-wrap>Male  </span></td><td><span style=white-space:pre-wrap>   0</span></td><td>0</td><td>40</td><td>United-States</td><td>&lt;=50K</td></tr>\n",
       "\t<tr><th scope=row>4</th><td>4</td><td>53</td><td><span style=white-space:pre-wrap>Private         </span></td><td>234721</td><td><span style=white-space:pre-wrap>11th     </span></td><td> 7</td><td>Married-civ-spouse</td><td>Handlers-cleaners</td><td><span style=white-space:pre-wrap>Husband      </span></td><td>Black</td><td><span style=white-space:pre-wrap>Male  </span></td><td><span style=white-space:pre-wrap>   0</span></td><td>0</td><td>40</td><td>United-States</td><td>&lt;=50K</td></tr>\n",
       "\t<tr><th scope=row>5</th><td>5</td><td>28</td><td><span style=white-space:pre-wrap>Private         </span></td><td>338409</td><td>Bachelors</td><td>13</td><td>Married-civ-spouse</td><td><span style=white-space:pre-wrap>Prof-specialty   </span></td><td><span style=white-space:pre-wrap>Wife         </span></td><td>Black</td><td>Female</td><td><span style=white-space:pre-wrap>   0</span></td><td>0</td><td>40</td><td><span style=white-space:pre-wrap>Cuba         </span></td><td>&lt;=50K</td></tr>\n",
       "\t<tr><th scope=row>6</th><td>6</td><td>37</td><td><span style=white-space:pre-wrap>Private         </span></td><td>284582</td><td><span style=white-space:pre-wrap>Masters  </span></td><td>14</td><td>Married-civ-spouse</td><td><span style=white-space:pre-wrap>Exec-managerial  </span></td><td><span style=white-space:pre-wrap>Wife         </span></td><td>White</td><td>Female</td><td><span style=white-space:pre-wrap>   0</span></td><td>0</td><td>40</td><td>United-States</td><td>&lt;=50K</td></tr>\n",
       "</tbody>\n",
       "</table>\n"
      ],
      "text/latex": [
       "A data.frame: 6 × 16\n",
       "\\begin{tabular}{r|llllllllllllllll}\n",
       "  & X & age & type\\_employer & fnlwgt & education & education\\_num & marital & occupation & relationship & race & sex & capital\\_gain & capital\\_loss & hr\\_per\\_week & country & income\\\\\n",
       "  & <int> & <int> & <fct> & <int> & <fct> & <int> & <fct> & <fct> & <fct> & <fct> & <fct> & <int> & <int> & <int> & <fct> & <fct>\\\\\n",
       "\\hline\n",
       "\t1 & 1 & 39 & State-gov        &  77516 & Bachelors & 13 & Never-married      & Adm-clerical      & Not-in-family & White & Male   & 2174 & 0 & 40 & United-States & <=50K\\\\\n",
       "\t2 & 2 & 50 & Self-emp-not-inc &  83311 & Bachelors & 13 & Married-civ-spouse & Exec-managerial   & Husband       & White & Male   &    0 & 0 & 13 & United-States & <=50K\\\\\n",
       "\t3 & 3 & 38 & Private          & 215646 & HS-grad   &  9 & Divorced           & Handlers-cleaners & Not-in-family & White & Male   &    0 & 0 & 40 & United-States & <=50K\\\\\n",
       "\t4 & 4 & 53 & Private          & 234721 & 11th      &  7 & Married-civ-spouse & Handlers-cleaners & Husband       & Black & Male   &    0 & 0 & 40 & United-States & <=50K\\\\\n",
       "\t5 & 5 & 28 & Private          & 338409 & Bachelors & 13 & Married-civ-spouse & Prof-specialty    & Wife          & Black & Female &    0 & 0 & 40 & Cuba          & <=50K\\\\\n",
       "\t6 & 6 & 37 & Private          & 284582 & Masters   & 14 & Married-civ-spouse & Exec-managerial   & Wife          & White & Female &    0 & 0 & 40 & United-States & <=50K\\\\\n",
       "\\end{tabular}\n"
      ],
      "text/markdown": [
       "\n",
       "A data.frame: 6 × 16\n",
       "\n",
       "| <!--/--> | X &lt;int&gt; | age &lt;int&gt; | type_employer &lt;fct&gt; | fnlwgt &lt;int&gt; | education &lt;fct&gt; | education_num &lt;int&gt; | marital &lt;fct&gt; | occupation &lt;fct&gt; | relationship &lt;fct&gt; | race &lt;fct&gt; | sex &lt;fct&gt; | capital_gain &lt;int&gt; | capital_loss &lt;int&gt; | hr_per_week &lt;int&gt; | country &lt;fct&gt; | income &lt;fct&gt; |\n",
       "|---|---|---|---|---|---|---|---|---|---|---|---|---|---|---|---|---|\n",
       "| 1 | 1 | 39 | State-gov        |  77516 | Bachelors | 13 | Never-married      | Adm-clerical      | Not-in-family | White | Male   | 2174 | 0 | 40 | United-States | &lt;=50K |\n",
       "| 2 | 2 | 50 | Self-emp-not-inc |  83311 | Bachelors | 13 | Married-civ-spouse | Exec-managerial   | Husband       | White | Male   |    0 | 0 | 13 | United-States | &lt;=50K |\n",
       "| 3 | 3 | 38 | Private          | 215646 | HS-grad   |  9 | Divorced           | Handlers-cleaners | Not-in-family | White | Male   |    0 | 0 | 40 | United-States | &lt;=50K |\n",
       "| 4 | 4 | 53 | Private          | 234721 | 11th      |  7 | Married-civ-spouse | Handlers-cleaners | Husband       | Black | Male   |    0 | 0 | 40 | United-States | &lt;=50K |\n",
       "| 5 | 5 | 28 | Private          | 338409 | Bachelors | 13 | Married-civ-spouse | Prof-specialty    | Wife          | Black | Female |    0 | 0 | 40 | Cuba          | &lt;=50K |\n",
       "| 6 | 6 | 37 | Private          | 284582 | Masters   | 14 | Married-civ-spouse | Exec-managerial   | Wife          | White | Female |    0 | 0 | 40 | United-States | &lt;=50K |\n",
       "\n"
      ],
      "text/plain": [
       "  X age type_employer    fnlwgt education education_num marital           \n",
       "1 1 39  State-gov         77516 Bachelors 13            Never-married     \n",
       "2 2 50  Self-emp-not-inc  83311 Bachelors 13            Married-civ-spouse\n",
       "3 3 38  Private          215646 HS-grad    9            Divorced          \n",
       "4 4 53  Private          234721 11th       7            Married-civ-spouse\n",
       "5 5 28  Private          338409 Bachelors 13            Married-civ-spouse\n",
       "6 6 37  Private          284582 Masters   14            Married-civ-spouse\n",
       "  occupation        relationship  race  sex    capital_gain capital_loss\n",
       "1 Adm-clerical      Not-in-family White Male   2174         0           \n",
       "2 Exec-managerial   Husband       White Male      0         0           \n",
       "3 Handlers-cleaners Not-in-family White Male      0         0           \n",
       "4 Handlers-cleaners Husband       Black Male      0         0           \n",
       "5 Prof-specialty    Wife          Black Female    0         0           \n",
       "6 Exec-managerial   Wife          White Female    0         0           \n",
       "  hr_per_week country       income\n",
       "1 40          United-States <=50K \n",
       "2 13          United-States <=50K \n",
       "3 40          United-States <=50K \n",
       "4 40          United-States <=50K \n",
       "5 40          Cuba          <=50K \n",
       "6 40          United-States <=50K "
      ]
     },
     "metadata": {},
     "output_type": "display_data"
    },
    {
     "name": "stdout",
     "output_type": "stream",
     "text": [
      "'data.frame':\t32561 obs. of  16 variables:\n",
      " $ X            : int  1 2 3 4 5 6 7 8 9 10 ...\n",
      " $ age          : int  39 50 38 53 28 37 49 52 31 42 ...\n",
      " $ type_employer: Factor w/ 9 levels \"?\",\"Federal-gov\",..: 8 7 5 5 5 5 5 7 5 5 ...\n",
      " $ fnlwgt       : int  77516 83311 215646 234721 338409 284582 160187 209642 45781 159449 ...\n",
      " $ education    : Factor w/ 16 levels \"10th\",\"11th\",..: 10 10 12 2 10 13 7 12 13 10 ...\n",
      " $ education_num: int  13 13 9 7 13 14 5 9 14 13 ...\n",
      " $ marital      : Factor w/ 7 levels \"Divorced\",\"Married-AF-spouse\",..: 5 3 1 3 3 3 4 3 5 3 ...\n",
      " $ occupation   : Factor w/ 15 levels \"?\",\"Adm-clerical\",..: 2 5 7 7 11 5 9 5 11 5 ...\n",
      " $ relationship : Factor w/ 6 levels \"Husband\",\"Not-in-family\",..: 2 1 2 1 6 6 2 1 2 1 ...\n",
      " $ race         : Factor w/ 5 levels \"Amer-Indian-Eskimo\",..: 5 5 5 3 3 5 3 5 5 5 ...\n",
      " $ sex          : Factor w/ 2 levels \"Female\",\"Male\": 2 2 2 2 1 1 1 2 1 2 ...\n",
      " $ capital_gain : int  2174 0 0 0 0 0 0 0 14084 5178 ...\n",
      " $ capital_loss : int  0 0 0 0 0 0 0 0 0 0 ...\n",
      " $ hr_per_week  : int  40 13 40 40 40 40 16 45 50 40 ...\n",
      " $ country      : Factor w/ 42 levels \"?\",\"Cambodia\",..: 40 40 40 40 6 40 24 40 40 40 ...\n",
      " $ income       : Factor w/ 2 levels \"<=50K\",\">50K\": 1 1 1 1 1 1 1 2 2 2 ...\n"
     ]
    }
   ],
   "source": [
    "library(dplyr)\n",
    "# Load the Data\n",
    "adult <- read.csv('adult_sal.csv')\n",
    "adult <- adult %>% mutate_if(is.character,as.factor)\n",
    "head(adult)\n",
    "str(adult)\n"
   ]
  },
  {
   "attachments": {},
   "cell_type": "markdown",
   "metadata": {},
   "source": [
    "## Cleaning Data"
   ]
  },
  {
   "cell_type": "code",
   "execution_count": 50,
   "metadata": {
    "vscode": {
     "languageId": "r"
    }
   },
   "outputs": [
    {
     "data": {
      "text/plain": [
       "\n",
       "               ?      Federal-gov        Local-gov     Never-worked \n",
       "            1836              960             2093                7 \n",
       "         Private     Self-emp-inc Self-emp-not-inc        State-gov \n",
       "           22696             1116             2541             1298 \n",
       "     Without-pay \n",
       "              14 "
      ]
     },
     "metadata": {},
     "output_type": "display_data"
    }
   ],
   "source": [
    "# Drop index\n",
    "adult <- select(adult, -X)\n",
    "\n",
    "# Reduce the number of factors in type_employer column\n",
    "table(adult$type_employer)"
   ]
  },
  {
   "attachments": {},
   "cell_type": "markdown",
   "metadata": {},
   "source": [
    "#### Reduce Category of employment type"
   ]
  },
  {
   "cell_type": "code",
   "execution_count": 51,
   "metadata": {
    "vscode": {
     "languageId": "r"
    }
   },
   "outputs": [
    {
     "data": {
      "text/plain": [
       "\n",
       "          ? Federal-gov     Private    self-emp      SL-gov  Unemployed \n",
       "       1836         960       22696        3657        3391          21 "
      ]
     },
     "metadata": {},
     "output_type": "display_data"
    }
   ],
   "source": [
    "# Combine the least two category into unemployed column\n",
    "combine_emp<- function(type){\n",
    "  out <- type\n",
    "  if(type == 'Never-worked' || type == 'Without-pay'){\n",
    "    out <- 'Unemployed'\n",
    "  } else if( type == 'Local-gov' || type == 'State-gov'){\n",
    "    out <- 'SL-gov'\n",
    "  } else if( type == 'Self-emp-inc'|| type =='Self-emp-not-inc'){\n",
    "    out <- 'self-emp' \n",
    "  }\n",
    "  return (out)\n",
    "}\n",
    "adult$type_employer <- sapply(as.character(adult$type_employer), combine_emp) %>% as.factor()\n",
    "\n",
    "table(adult$type_employer)"
   ]
  },
  {
   "attachments": {},
   "cell_type": "markdown",
   "metadata": {},
   "source": [
    "#### Reduce Category of Marital Status"
   ]
  },
  {
   "cell_type": "code",
   "execution_count": 52,
   "metadata": {
    "vscode": {
     "languageId": "r"
    }
   },
   "outputs": [
    {
     "data": {
      "text/plain": [
       "\n",
       "      Married Never-Married   Not-Married \n",
       "        15417         10683          6461 "
      ]
     },
     "metadata": {},
     "output_type": "display_data"
    }
   ],
   "source": [
    "combine_marital<- function(type){\n",
    "  out <- type\n",
    "  if(type == 'Married-AF-spouse' || type == 'Married-civ-spouse' || type == 'Married-spouse-absent'){\n",
    "    out <- 'Married'\n",
    "  } else if( type == 'Divorced' || type == 'Separated' || type == 'Widowed'){\n",
    "    out <- 'Not-Married'\n",
    "  } else {\n",
    "    out <- 'Never-Married'\n",
    "  }\n",
    "}\n",
    "\n",
    "adult$marital <- sapply(as.character(adult$marital), combine_marital) %>% as.factor()\n",
    "\n",
    "table(adult$marital)"
   ]
  },
  {
   "attachments": {},
   "cell_type": "markdown",
   "metadata": {},
   "source": [
    "#### Reduce Category of countries"
   ]
  },
  {
   "cell_type": "code",
   "execution_count": 53,
   "metadata": {
    "vscode": {
     "languageId": "r"
    }
   },
   "outputs": [
    {
     "data": {
      "text/plain": [
       "\n",
       "                 Asia Central.South America                Europe \n",
       "                  671                   758                   521 \n",
       "        North.America                 Other \n",
       "                29948                   663 "
      ]
     },
     "metadata": {},
     "output_type": "display_data"
    }
   ],
   "source": [
    "adult <- adult %>%\n",
    "  mutate(country = case_when(\n",
    "    country %in% c(\"United-States\", \"Canada\", \"Mexico\", \"Outlying-US(Guam-USVI-etc)\") ~ \"North.America\",\n",
    "    country %in% c(\"Columbia\", \"Cuba\", \"Dominican-Republic\", \"Ecuador\", \"El-Salvador\", \"Guatemala\",\n",
    "                   \"Haiti\", \"Honduras\", \"Jamaica\", \"Nicaragua\", \"Peru\", \"Puerto-Rico\", \"Trinadad&Tobago\") ~ \"Central.South America\",\n",
    "    country %in% c(\"England\", \"France\", \"Germany\", \"Greece\", \"Hungary\", \"Ireland\", \"Italy\", \n",
    "                   \"Poland\", \"Portugal\", \"Scotland\", \"Yugoslavia\", \"Holand-Netherlands\") ~ \"Europe\",\n",
    "    country %in% c(\"Cambodia\", \"China\", \"Hong\", \"India\", \"Iran\", \"Japan\", \"Laos\", \"Philippines\",\n",
    "                   \"Taiwan\", \"Thailand\", \"Vietnam\") ~ \"Asia\",\n",
    "    country %in% c(\"Iran\",\"South\",\"?\") ~ \"Other\",\n",
    "    TRUE ~ \"Other\"  # Default catch-all category\n",
    "  )) %>%\n",
    "  mutate(country = as.factor(country))\n",
    "table(adult$country)"
   ]
  },
  {
   "attachments": {},
   "cell_type": "markdown",
   "metadata": {},
   "source": [
    "### Missing Data"
   ]
  },
  {
   "cell_type": "code",
   "execution_count": 54,
   "metadata": {
    "vscode": {
     "languageId": "r"
    }
   },
   "outputs": [
    {
     "data": {
      "text/plain": [
       "\n",
       "Federal-gov     Private    self-emp      SL-gov  Unemployed \n",
       "        960       22696        3657        3391          21 "
      ]
     },
     "metadata": {},
     "output_type": "display_data"
    }
   ],
   "source": [
    "library(Amelia)\n",
    "\n",
    "adult[] <- lapply(adult, function(col){\n",
    "  if(is.factor(col)){\n",
    "    col <- as.character(col)\n",
    "  }\n",
    "  col[col == '?'] <- NA\n",
    "  if(is.character(col)){\n",
    "    col<-as.factor(col)\n",
    "  }\n",
    "  return (col)\n",
    "})\n",
    "\n",
    "table(adult$type_employer)"
   ]
  },
  {
   "cell_type": "code",
   "execution_count": 55,
   "metadata": {
    "vscode": {
     "languageId": "r"
    }
   },
   "outputs": [
    {
     "data": {
      "image/png": "[encoded data removed]",
      "text/plain": [
       "Plot with title \"Missingness Map\""
      ]
     },
     "metadata": {
      "image/png": {
       "height": 420,
       "width": 420
      }
     },
     "output_type": "display_data"
    }
   ],
   "source": [
    "missmap(adult, y.at=c(1), y.labels=c(''), col = c('yellow','black'))"
   ]
  },
  {
   "attachments": {},
   "cell_type": "markdown",
   "metadata": {},
   "source": [
    "#### Delete all NA rows"
   ]
  },
  {
   "cell_type": "code",
   "execution_count": 56,
   "metadata": {
    "vscode": {
     "languageId": "r"
    }
   },
   "outputs": [
    {
     "name": "stdout",
     "output_type": "stream",
     "text": [
      "'data.frame':\t30718 obs. of  15 variables:\n",
      " $ age          : int  39 50 38 53 28 37 49 52 31 42 ...\n",
      " $ type_employer: Factor w/ 5 levels \"Federal-gov\",..: 4 3 2 2 2 2 2 3 2 2 ...\n",
      " $ fnlwgt       : int  77516 83311 215646 234721 338409 284582 160187 209642 45781 159449 ...\n",
      " $ education    : Factor w/ 16 levels \"10th\",\"11th\",..: 10 10 12 2 10 13 7 12 13 10 ...\n",
      " $ education_num: int  13 13 9 7 13 14 5 9 14 13 ...\n",
      " $ marital      : Factor w/ 3 levels \"Married\",\"Never-Married\",..: 2 1 3 1 1 1 1 1 2 1 ...\n",
      " $ occupation   : Factor w/ 14 levels \"Adm-clerical\",..: 1 4 6 6 10 4 8 4 10 4 ...\n",
      " $ relationship : Factor w/ 6 levels \"Husband\",\"Not-in-family\",..: 2 1 2 1 6 6 2 1 2 1 ...\n",
      " $ race         : Factor w/ 5 levels \"Amer-Indian-Eskimo\",..: 5 5 5 3 3 5 3 5 5 5 ...\n",
      " $ sex          : Factor w/ 2 levels \"Female\",\"Male\": 2 2 2 2 1 1 1 2 1 2 ...\n",
      " $ capital_gain : int  2174 0 0 0 0 0 0 0 14084 5178 ...\n",
      " $ capital_loss : int  0 0 0 0 0 0 0 0 0 0 ...\n",
      " $ hr_per_week  : int  40 13 40 40 40 40 16 45 50 40 ...\n",
      " $ country      : Factor w/ 5 levels \"Asia\",\"Central.South America\",..: 4 4 4 4 2 4 2 4 4 4 ...\n",
      " $ income       : Factor w/ 2 levels \"<=50K\",\">50K\": 1 1 1 1 1 1 1 2 2 2 ...\n",
      " - attr(*, \"na.action\")= 'omit' Named int [1:1843] 28 62 70 78 107 129 150 155 161 188 ...\n",
      "  ..- attr(*, \"names\")= chr [1:1843] \"28\" \"62\" \"70\" \"78\" ...\n"
     ]
    },
    {
     "data": {
      "image/png": "[encoded data removed]",
      "text/plain": [
       "Plot with title \"Missingness Map\""
      ]
     },
     "metadata": {
      "image/png": {
       "height": 420,
       "width": 420
      }
     },
     "output_type": "display_data"
    }
   ],
   "source": [
    "adult <- na.omit(adult)\n",
    "str(adult)\n",
    "missmap(adult, y.at=c(1), y.labels=c(''), col = c('yellow','black'))"
   ]
  },
  {
   "attachments": {},
   "cell_type": "markdown",
   "metadata": {},
   "source": [
    "## Exploratory Data Analysis"
   ]
  },
  {
   "cell_type": "code",
   "execution_count": 57,
   "metadata": {
    "vscode": {
     "languageId": "r"
    }
   },
   "outputs": [
    {
     "name": "stdout",
     "output_type": "stream",
     "text": [
      "'data.frame':\t30718 obs. of  15 variables:\n",
      " $ age          : int  39 50 38 53 28 37 49 52 31 42 ...\n",
      " $ type_employer: Factor w/ 5 levels \"Federal-gov\",..: 4 3 2 2 2 2 2 3 2 2 ...\n",
      " $ fnlwgt       : int  77516 83311 215646 234721 338409 284582 160187 209642 45781 159449 ...\n",
      " $ education    : Factor w/ 16 levels \"10th\",\"11th\",..: 10 10 12 2 10 13 7 12 13 10 ...\n",
      " $ education_num: int  13 13 9 7 13 14 5 9 14 13 ...\n",
      " $ marital      : Factor w/ 3 levels \"Married\",\"Never-Married\",..: 2 1 3 1 1 1 1 1 2 1 ...\n",
      " $ occupation   : Factor w/ 14 levels \"Adm-clerical\",..: 1 4 6 6 10 4 8 4 10 4 ...\n",
      " $ relationship : Factor w/ 6 levels \"Husband\",\"Not-in-family\",..: 2 1 2 1 6 6 2 1 2 1 ...\n",
      " $ race         : Factor w/ 5 levels \"Amer-Indian-Eskimo\",..: 5 5 5 3 3 5 3 5 5 5 ...\n",
      " $ sex          : Factor w/ 2 levels \"Female\",\"Male\": 2 2 2 2 1 1 1 2 1 2 ...\n",
      " $ capital_gain : int  2174 0 0 0 0 0 0 0 14084 5178 ...\n",
      " $ capital_loss : int  0 0 0 0 0 0 0 0 0 0 ...\n",
      " $ hr_per_week  : int  40 13 40 40 40 40 16 45 50 40 ...\n",
      " $ country      : Factor w/ 5 levels \"Asia\",\"Central.South America\",..: 4 4 4 4 2 4 2 4 4 4 ...\n",
      " $ income       : Factor w/ 2 levels \"<=50K\",\">50K\": 1 1 1 1 1 1 1 2 2 2 ...\n",
      " - attr(*, \"na.action\")= 'omit' Named int [1:1843] 28 62 70 78 107 129 150 155 161 188 ...\n",
      "  ..- attr(*, \"names\")= chr [1:1843] \"28\" \"62\" \"70\" \"78\" ...\n"
     ]
    }
   ],
   "source": [
    "str(adult)"
   ]
  },
  {
   "cell_type": "code",
   "execution_count": 58,
   "metadata": {
    "vscode": {
     "languageId": "r"
    }
   },
   "outputs": [
    {
     "data": {
      "image/png": "[encoded data removed]",
      "text/plain": [
       "plot without title"
      ]
     },
     "metadata": {
      "image/png": {
       "height": 420,
       "width": 420
      }
     },
     "output_type": "display_data"
    }
   ],
   "source": [
    "# Histogram of Age colored by income\n",
    "library(ggplot2)\n",
    "pl <- ggplot(adult, aes(age, fill= income)) + geom_histogram(color='black', bins=30, position = \"stack\")\n",
    "pl"
   ]
  },
  {
   "cell_type": "code",
   "execution_count": 59,
   "metadata": {
    "vscode": {
     "languageId": "r"
    }
   },
   "outputs": [
    {
     "name": "stderr",
     "output_type": "stream",
     "text": [
      "\u001b[1m\u001b[22m`stat_bin()` using `bins = 30`. Pick better value with `binwidth`.\n"
     ]
    },
    {
     "data": {
      "image/png": "[encoded data removed]",
      "text/plain": [
       "plot without title"
      ]
     },
     "metadata": {
      "image/png": {
       "height": 420,
       "width": 420
      }
     },
     "output_type": "display_data"
    }
   ],
   "source": [
    "# Histogram of hours worked per week\n",
    "pl2 <- ggplot(adult, aes(hr_per_week)) + geom_histogram()\n",
    "pl2"
   ]
  },
  {
   "cell_type": "code",
   "execution_count": 60,
   "metadata": {
    "vscode": {
     "languageId": "r"
    }
   },
   "outputs": [],
   "source": [
    "# Rename country to region\n",
    "adult <- adult %>% rename( 'region' = country)"
   ]
  },
  {
   "cell_type": "code",
   "execution_count": 61,
   "metadata": {
    "vscode": {
     "languageId": "r"
    }
   },
   "outputs": [
    {
     "data": {
      "image/png": "[encoded data removed]",
      "text/plain": [
       "plot without title"
      ]
     },
     "metadata": {
      "image/png": {
       "height": 420,
       "width": 420
      }
     },
     "output_type": "display_data"
    }
   ],
   "source": [
    "pl3 <- ggplot(adult, aes(x=region, fill=income,)) +geom_bar( color='black')\n",
    "pl3"
   ]
  },
  {
   "attachments": {},
   "cell_type": "markdown",
   "metadata": {},
   "source": [
    "## Logistic Regression Modeling"
   ]
  },
  {
   "cell_type": "code",
   "execution_count": 62,
   "metadata": {
    "vscode": {
     "languageId": "r"
    }
   },
   "outputs": [
    {
     "data": {
      "text/html": [
       "<table class=\"dataframe\">\n",
       "<caption>A data.frame: 6 × 15</caption>\n",
       "<thead>\n",
       "\t<tr><th></th><th scope=col>age</th><th scope=col>type_employer</th><th scope=col>fnlwgt</th><th scope=col>education</th><th scope=col>education_num</th><th scope=col>marital</th><th scope=col>occupation</th><th scope=col>relationship</th><th scope=col>race</th><th scope=col>sex</th><th scope=col>capital_gain</th><th scope=col>capital_loss</th><th scope=col>hr_per_week</th><th scope=col>region</th><th scope=col>income</th></tr>\n",
       "\t<tr><th></th><th scope=col>&lt;int&gt;</th><th scope=col>&lt;fct&gt;</th><th scope=col>&lt;int&gt;</th><th scope=col>&lt;fct&gt;</th><th scope=col>&lt;int&gt;</th><th scope=col>&lt;fct&gt;</th><th scope=col>&lt;fct&gt;</th><th scope=col>&lt;fct&gt;</th><th scope=col>&lt;fct&gt;</th><th scope=col>&lt;fct&gt;</th><th scope=col>&lt;int&gt;</th><th scope=col>&lt;int&gt;</th><th scope=col>&lt;int&gt;</th><th scope=col>&lt;fct&gt;</th><th scope=col>&lt;fct&gt;</th></tr>\n",
       "</thead>\n",
       "<tbody>\n",
       "\t<tr><th scope=row>1</th><td>39</td><td><span style=white-space:pre-wrap>SL-gov  </span></td><td> 77516</td><td>Bachelors</td><td>13</td><td>Never-Married</td><td><span style=white-space:pre-wrap>Adm-clerical     </span></td><td>Not-in-family</td><td>White</td><td><span style=white-space:pre-wrap>Male  </span></td><td>2174</td><td>0</td><td>40</td><td><span style=white-space:pre-wrap>North.America        </span></td><td>&lt;=50K</td></tr>\n",
       "\t<tr><th scope=row>2</th><td>50</td><td>self-emp</td><td> 83311</td><td>Bachelors</td><td>13</td><td><span style=white-space:pre-wrap>Married      </span></td><td><span style=white-space:pre-wrap>Exec-managerial  </span></td><td><span style=white-space:pre-wrap>Husband      </span></td><td>White</td><td><span style=white-space:pre-wrap>Male  </span></td><td><span style=white-space:pre-wrap>   0</span></td><td>0</td><td>13</td><td><span style=white-space:pre-wrap>North.America        </span></td><td>&lt;=50K</td></tr>\n",
       "\t<tr><th scope=row>3</th><td>38</td><td>Private </td><td>215646</td><td><span style=white-space:pre-wrap>HS-grad  </span></td><td> 9</td><td><span style=white-space:pre-wrap>Not-Married  </span></td><td>Handlers-cleaners</td><td>Not-in-family</td><td>White</td><td><span style=white-space:pre-wrap>Male  </span></td><td><span style=white-space:pre-wrap>   0</span></td><td>0</td><td>40</td><td><span style=white-space:pre-wrap>North.America        </span></td><td>&lt;=50K</td></tr>\n",
       "\t<tr><th scope=row>4</th><td>53</td><td>Private </td><td>234721</td><td><span style=white-space:pre-wrap>11th     </span></td><td> 7</td><td><span style=white-space:pre-wrap>Married      </span></td><td>Handlers-cleaners</td><td><span style=white-space:pre-wrap>Husband      </span></td><td>Black</td><td><span style=white-space:pre-wrap>Male  </span></td><td><span style=white-space:pre-wrap>   0</span></td><td>0</td><td>40</td><td><span style=white-space:pre-wrap>North.America        </span></td><td>&lt;=50K</td></tr>\n",
       "\t<tr><th scope=row>5</th><td>28</td><td>Private </td><td>338409</td><td>Bachelors</td><td>13</td><td><span style=white-space:pre-wrap>Married      </span></td><td><span style=white-space:pre-wrap>Prof-specialty   </span></td><td><span style=white-space:pre-wrap>Wife         </span></td><td>Black</td><td>Female</td><td><span style=white-space:pre-wrap>   0</span></td><td>0</td><td>40</td><td>Central.South America</td><td>&lt;=50K</td></tr>\n",
       "\t<tr><th scope=row>6</th><td>37</td><td>Private </td><td>284582</td><td><span style=white-space:pre-wrap>Masters  </span></td><td>14</td><td><span style=white-space:pre-wrap>Married      </span></td><td><span style=white-space:pre-wrap>Exec-managerial  </span></td><td><span style=white-space:pre-wrap>Wife         </span></td><td>White</td><td>Female</td><td><span style=white-space:pre-wrap>   0</span></td><td>0</td><td>40</td><td><span style=white-space:pre-wrap>North.America        </span></td><td>&lt;=50K</td></tr>\n",
       "</tbody>\n",
       "</table>\n"
      ],
      "text/latex": [
       "A data.frame: 6 × 15\n",
       "\\begin{tabular}{r|lllllllllllllll}\n",
       "  & age & type\\_employer & fnlwgt & education & education\\_num & marital & occupation & relationship & race & sex & capital\\_gain & capital\\_loss & hr\\_per\\_week & region & income\\\\\n",
       "  & <int> & <fct> & <int> & <fct> & <int> & <fct> & <fct> & <fct> & <fct> & <fct> & <int> & <int> & <int> & <fct> & <fct>\\\\\n",
       "\\hline\n",
       "\t1 & 39 & SL-gov   &  77516 & Bachelors & 13 & Never-Married & Adm-clerical      & Not-in-family & White & Male   & 2174 & 0 & 40 & North.America         & <=50K\\\\\n",
       "\t2 & 50 & self-emp &  83311 & Bachelors & 13 & Married       & Exec-managerial   & Husband       & White & Male   &    0 & 0 & 13 & North.America         & <=50K\\\\\n",
       "\t3 & 38 & Private  & 215646 & HS-grad   &  9 & Not-Married   & Handlers-cleaners & Not-in-family & White & Male   &    0 & 0 & 40 & North.America         & <=50K\\\\\n",
       "\t4 & 53 & Private  & 234721 & 11th      &  7 & Married       & Handlers-cleaners & Husband       & Black & Male   &    0 & 0 & 40 & North.America         & <=50K\\\\\n",
       "\t5 & 28 & Private  & 338409 & Bachelors & 13 & Married       & Prof-specialty    & Wife          & Black & Female &    0 & 0 & 40 & Central.South America & <=50K\\\\\n",
       "\t6 & 37 & Private  & 284582 & Masters   & 14 & Married       & Exec-managerial   & Wife          & White & Female &    0 & 0 & 40 & North.America         & <=50K\\\\\n",
       "\\end{tabular}\n"
      ],
      "text/markdown": [
       "\n",
       "A data.frame: 6 × 15\n",
       "\n",
       "| <!--/--> | age &lt;int&gt; | type_employer &lt;fct&gt; | fnlwgt &lt;int&gt; | education &lt;fct&gt; | education_num &lt;int&gt; | marital &lt;fct&gt; | occupation &lt;fct&gt; | relationship &lt;fct&gt; | race &lt;fct&gt; | sex &lt;fct&gt; | capital_gain &lt;int&gt; | capital_loss &lt;int&gt; | hr_per_week &lt;int&gt; | region &lt;fct&gt; | income &lt;fct&gt; |\n",
       "|---|---|---|---|---|---|---|---|---|---|---|---|---|---|---|---|\n",
       "| 1 | 39 | SL-gov   |  77516 | Bachelors | 13 | Never-Married | Adm-clerical      | Not-in-family | White | Male   | 2174 | 0 | 40 | North.America         | &lt;=50K |\n",
       "| 2 | 50 | self-emp |  83311 | Bachelors | 13 | Married       | Exec-managerial   | Husband       | White | Male   |    0 | 0 | 13 | North.America         | &lt;=50K |\n",
       "| 3 | 38 | Private  | 215646 | HS-grad   |  9 | Not-Married   | Handlers-cleaners | Not-in-family | White | Male   |    0 | 0 | 40 | North.America         | &lt;=50K |\n",
       "| 4 | 53 | Private  | 234721 | 11th      |  7 | Married       | Handlers-cleaners | Husband       | Black | Male   |    0 | 0 | 40 | North.America         | &lt;=50K |\n",
       "| 5 | 28 | Private  | 338409 | Bachelors | 13 | Married       | Prof-specialty    | Wife          | Black | Female |    0 | 0 | 40 | Central.South America | &lt;=50K |\n",
       "| 6 | 37 | Private  | 284582 | Masters   | 14 | Married       | Exec-managerial   | Wife          | White | Female |    0 | 0 | 40 | North.America         | &lt;=50K |\n",
       "\n"
      ],
      "text/plain": [
       "  age type_employer fnlwgt education education_num marital      \n",
       "1 39  SL-gov         77516 Bachelors 13            Never-Married\n",
       "2 50  self-emp       83311 Bachelors 13            Married      \n",
       "3 38  Private       215646 HS-grad    9            Not-Married  \n",
       "4 53  Private       234721 11th       7            Married      \n",
       "5 28  Private       338409 Bachelors 13            Married      \n",
       "6 37  Private       284582 Masters   14            Married      \n",
       "  occupation        relationship  race  sex    capital_gain capital_loss\n",
       "1 Adm-clerical      Not-in-family White Male   2174         0           \n",
       "2 Exec-managerial   Husband       White Male      0         0           \n",
       "3 Handlers-cleaners Not-in-family White Male      0         0           \n",
       "4 Handlers-cleaners Husband       Black Male      0         0           \n",
       "5 Prof-specialty    Wife          Black Female    0         0           \n",
       "6 Exec-managerial   Wife          White Female    0         0           \n",
       "  hr_per_week region                income\n",
       "1 40          North.America         <=50K \n",
       "2 13          North.America         <=50K \n",
       "3 40          North.America         <=50K \n",
       "4 40          North.America         <=50K \n",
       "5 40          Central.South America <=50K \n",
       "6 40          North.America         <=50K "
      ]
     },
     "metadata": {},
     "output_type": "display_data"
    }
   ],
   "source": [
    "head(adult)"
   ]
  },
  {
   "cell_type": "code",
   "execution_count": 64,
   "metadata": {
    "vscode": {
     "languageId": "r"
    }
   },
   "outputs": [
    {
     "name": "stderr",
     "output_type": "stream",
     "text": [
      "Warning message:\n",
      "\"glm.fit: fitted probabilities numerically 0 or 1 occurred\"\n"
     ]
    },
    {
     "data": {
      "text/plain": [
       "\n",
       "Call:\n",
       "glm(formula = income ~ ., family = binomial(link = \"logit\"), \n",
       "    data = train)\n",
       "\n",
       "Coefficients: (1 not defined because of singularities)\n",
       "                              Estimate Std. Error z value Pr(>|z|)    \n",
       "(Intercept)                 -5.471e+00  4.345e-01 -12.592  < 2e-16 ***\n",
       "age                          2.558e-02  2.005e-03  12.760  < 2e-16 ***\n",
       "type_employerPrivate        -4.524e-01  1.126e-01  -4.019 5.86e-05 ***\n",
       "type_employerself-emp       -6.823e-01  1.244e-01  -5.483 4.19e-08 ***\n",
       "type_employerSL-gov         -6.891e-01  1.267e-01  -5.441 5.31e-08 ***\n",
       "type_employerUnemployed     -1.414e+01  3.684e+02  -0.038 0.969374    \n",
       "fnlwgt                       4.907e-07  2.075e-07   2.365 0.018020 *  \n",
       "education11th                2.020e-01  2.569e-01   0.786 0.431590    \n",
       "education12th                3.790e-01  3.406e-01   1.113 0.265791    \n",
       "education1st-4th            -6.877e-01  5.975e-01  -1.151 0.249742    \n",
       "education5th-6th            -2.474e-01  3.919e-01  -0.631 0.527890    \n",
       "education7th-8th            -5.158e-01  2.878e-01  -1.792 0.073081 .  \n",
       "education9th                -6.014e-02  3.186e-01  -0.189 0.850271    \n",
       "educationAssoc-acdm          1.257e+00  2.165e-01   5.807 6.37e-09 ***\n",
       "educationAssoc-voc           1.456e+00  2.084e-01   6.989 2.78e-12 ***\n",
       "educationBachelors           2.009e+00  1.937e-01  10.371  < 2e-16 ***\n",
       "educationDoctorate           2.875e+00  2.635e-01  10.911  < 2e-16 ***\n",
       "educationHS-grad             8.383e-01  1.888e-01   4.440 9.00e-06 ***\n",
       "educationMasters             2.351e+00  2.063e-01  11.396  < 2e-16 ***\n",
       "educationPreschool          -1.939e+01  1.666e+02  -0.116 0.907354    \n",
       "educationProf-school         2.803e+00  2.467e-01  11.359  < 2e-16 ***\n",
       "educationSome-college        1.208e+00  1.915e-01   6.309 2.81e-10 ***\n",
       "education_num                       NA         NA      NA       NA    \n",
       "maritalNever-Married        -1.269e+00  1.940e-01  -6.544 5.99e-11 ***\n",
       "maritalNot-Married          -7.262e-01  1.942e-01  -3.739 0.000185 ***\n",
       "occupationArmed-Forces      -6.168e-01  1.845e+00  -0.334 0.738104    \n",
       "occupationCraft-repair       4.643e-02  9.484e-02   0.490 0.624406    \n",
       "occupationExec-managerial    7.738e-01  9.097e-02   8.506  < 2e-16 ***\n",
       "occupationFarming-fishing   -1.123e+00  1.617e-01  -6.947 3.74e-12 ***\n",
       "occupationHandlers-cleaners -7.997e-01  1.725e-01  -4.637 3.54e-06 ***\n",
       "occupationMachine-op-inspct -2.215e-01  1.202e-01  -1.842 0.065443 .  \n",
       "occupationOther-service     -8.289e-01  1.385e-01  -5.985 2.16e-09 ***\n",
       "occupationPriv-house-serv   -3.601e+00  1.941e+00  -1.855 0.063534 .  \n",
       "occupationProf-specialty     5.002e-01  9.627e-02   5.196 2.04e-07 ***\n",
       "occupationProtective-serv    6.094e-01  1.491e-01   4.087 4.37e-05 ***\n",
       "occupationSales              2.940e-01  9.751e-02   3.015 0.002568 ** \n",
       "occupationTech-support       6.871e-01  1.326e-01   5.184 2.17e-07 ***\n",
       "occupationTransport-moving  -1.001e-01  1.190e-01  -0.841 0.400328    \n",
       "relationshipNot-in-family   -8.763e-01  1.904e-01  -4.603 4.17e-06 ***\n",
       "relationshipOther-relative  -1.098e+00  2.543e-01  -4.318 1.58e-05 ***\n",
       "relationshipOwn-child       -1.804e+00  2.354e-01  -7.665 1.79e-14 ***\n",
       "relationshipUnmarried       -1.043e+00  2.153e-01  -4.843 1.28e-06 ***\n",
       "relationshipWife             1.479e+00  1.235e-01  11.972  < 2e-16 ***\n",
       "raceAsian-Pac-Islander       6.129e-01  3.204e-01   1.913 0.055753 .  \n",
       "raceBlack                    4.656e-01  2.845e-01   1.636 0.101736    \n",
       "raceOther                    6.190e-02  4.217e-01   0.147 0.883314    \n",
       "raceWhite                    6.650e-01  2.709e-01   2.455 0.014075 *  \n",
       "sexMale                      8.842e-01  9.378e-02   9.429  < 2e-16 ***\n",
       "capital_gain                 3.195e-04  1.273e-05  25.094  < 2e-16 ***\n",
       "capital_loss                 6.565e-04  4.564e-05  14.382  < 2e-16 ***\n",
       "hr_per_week                  2.907e-02  1.987e-03  14.626  < 2e-16 ***\n",
       "regionCentral.South America -5.008e-01  2.757e-01  -1.817 0.069279 .  \n",
       "regionEurope                 1.120e-01  2.551e-01   0.439 0.660525    \n",
       "regionNorth.America          5.776e-02  2.045e-01   0.282 0.777585    \n",
       "regionOther                 -3.657e-01  2.352e-01  -1.555 0.119949    \n",
       "---\n",
       "Signif. codes:  0 '***' 0.001 '**' 0.01 '*' 0.05 '.' 0.1 ' ' 1\n",
       "\n",
       "(Dispersion parameter for binomial family taken to be 1)\n",
       "\n",
       "    Null deviance: 24138  on 21502  degrees of freedom\n",
       "Residual deviance: 14010  on 21449  degrees of freedom\n",
       "AIC: 14118\n",
       "\n",
       "Number of Fisher Scoring iterations: 14\n"
      ]
     },
     "metadata": {},
     "output_type": "display_data"
    }
   ],
   "source": [
    "library(caTools)\n",
    "set.seed(101)\n",
    "split <- sample.split(adult$income, SplitRatio = 0.7 )\n",
    "train <- subset(adult, split==T)\n",
    "test <- subset(adult, split==F)\n",
    "\n",
    "log.model <- glm(income ~ ., family = binomial(link='logit'),data = train )\n",
    "\n",
    "summary(log.model)\n"
   ]
  },
  {
   "cell_type": "code",
   "execution_count": null,
   "metadata": {
    "vscode": {
     "languageId": "r"
    }
   },
   "outputs": [],
   "source": [
    "new.step.model <- step(log.model)"
   ]
  },
  {
   "cell_type": "code",
   "execution_count": null,
   "metadata": {
    "vscode": {
     "languageId": "r"
    }
   },
   "outputs": [],
   "source": [
    "summary(new.step.model)"
   ]
  },
  {
   "attachments": {},
   "cell_type": "markdown",
   "metadata": {},
   "source": [
    "## Prediction"
   ]
  },
  {
   "cell_type": "code",
   "execution_count": 74,
   "metadata": {
    "vscode": {
     "languageId": "r"
    }
   },
   "outputs": [
    {
     "data": {
      "text/plain": [
       "       \n",
       "        FALSE TRUE\n",
       "  <=50K  6369  551\n",
       "  >50K    875 1420"
      ]
     },
     "metadata": {},
     "output_type": "display_data"
    },
    {
     "name": "stdout",
     "output_type": "stream",
     "text": [
      "[1] 0.8452523\n",
      "[1] 0.9203757\n",
      "[1] 0.8792104\n"
     ]
    }
   ],
   "source": [
    "# prediction with test\n",
    "\n",
    "test$predicted.income <- predict(log.model, newdata = test, type='response')\n",
    "\n",
    "table(test$income, test$predicted.income > 0.5)\n",
    "acc <- (6369+1420)/(6369+1420+551+875)\n",
    "recall <- 6369/(6369+551)\n",
    "precision <- 6369/(6369+875)\n",
    "print(acc)\n",
    "print(recall)\n",
    "print(precision)"
   ]
  },
  {
   "attachments": {},
   "cell_type": "markdown",
   "metadata": {},
   "source": [
    "* Given the information, there's no real way to get a correct evaluation of how good this model is.\n",
    "* cost associated with the metrics is needed to decide whether or not we use this model."
   ]
  }
 ],
 "metadata": {
  "kernelspec": {
   "display_name": "R",
   "language": "R",
   "name": "ir"
  },
  "language_info": {
   "codemirror_mode": "r",
   "file_extension": ".r",
   "mimetype": "text/x-r-source",
   "name": "R",
   "pygments_lexer": "r",
   "version": "4.4.2"
  },
  "orig_nbformat": 4
 },
 "nbformat": 4,
 "nbformat_minor": 2
}
