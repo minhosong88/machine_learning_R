{
 "cells": [
  {
   "attachments": {},
   "cell_type": "markdown",
   "metadata": {},
   "source": [
    "# College Data Frame with Tree Methods"
   ]
  },
  {
   "attachments": {},
   "cell_type": "markdown",
   "metadata": {},
   "source": [
    "## Exploratory Data Analysis"
   ]
  },
  {
   "attachments": {},
   "cell_type": "markdown",
   "metadata": {},
   "source": [
    "#### Get the Data"
   ]
  },
  {
   "cell_type": "code",
   "execution_count": 5,
   "metadata": {
    "vscode": {
     "languageId": "r"
    }
   },
   "outputs": [
    {
     "data": {
      "text/html": [
       "<table class=\"dataframe\">\n",
       "<caption>A data.frame: 6 × 18</caption>\n",
       "<thead>\n",
       "\t<tr><th></th><th scope=col>Private</th><th scope=col>Apps</th><th scope=col>Accept</th><th scope=col>Enroll</th><th scope=col>Top10perc</th><th scope=col>Top25perc</th><th scope=col>F.Undergrad</th><th scope=col>P.Undergrad</th><th scope=col>Outstate</th><th scope=col>Room.Board</th><th scope=col>Books</th><th scope=col>Personal</th><th scope=col>PhD</th><th scope=col>Terminal</th><th scope=col>S.F.Ratio</th><th scope=col>perc.alumni</th><th scope=col>Expend</th><th scope=col>Grad.Rate</th></tr>\n",
       "\t<tr><th></th><th scope=col>&lt;fct&gt;</th><th scope=col>&lt;dbl&gt;</th><th scope=col>&lt;dbl&gt;</th><th scope=col>&lt;dbl&gt;</th><th scope=col>&lt;dbl&gt;</th><th scope=col>&lt;dbl&gt;</th><th scope=col>&lt;dbl&gt;</th><th scope=col>&lt;dbl&gt;</th><th scope=col>&lt;dbl&gt;</th><th scope=col>&lt;dbl&gt;</th><th scope=col>&lt;dbl&gt;</th><th scope=col>&lt;dbl&gt;</th><th scope=col>&lt;dbl&gt;</th><th scope=col>&lt;dbl&gt;</th><th scope=col>&lt;dbl&gt;</th><th scope=col>&lt;dbl&gt;</th><th scope=col>&lt;dbl&gt;</th><th scope=col>&lt;dbl&gt;</th></tr>\n",
       "</thead>\n",
       "<tbody>\n",
       "\t<tr><th scope=row>Abilene Christian University</th><td>Yes</td><td>1660</td><td>1232</td><td>721</td><td>23</td><td>52</td><td>2885</td><td> 537</td><td> 7440</td><td>3300</td><td>450</td><td>2200</td><td>70</td><td>78</td><td>18.1</td><td>12</td><td> 7041</td><td>60</td></tr>\n",
       "\t<tr><th scope=row>Adelphi University</th><td>Yes</td><td>2186</td><td>1924</td><td>512</td><td>16</td><td>29</td><td>2683</td><td>1227</td><td>12280</td><td>6450</td><td>750</td><td>1500</td><td>29</td><td>30</td><td>12.2</td><td>16</td><td>10527</td><td>56</td></tr>\n",
       "\t<tr><th scope=row>Adrian College</th><td>Yes</td><td>1428</td><td>1097</td><td>336</td><td>22</td><td>50</td><td>1036</td><td>  99</td><td>11250</td><td>3750</td><td>400</td><td>1165</td><td>53</td><td>66</td><td>12.9</td><td>30</td><td> 8735</td><td>54</td></tr>\n",
       "\t<tr><th scope=row>Agnes Scott College</th><td>Yes</td><td> 417</td><td> 349</td><td>137</td><td>60</td><td>89</td><td> 510</td><td>  63</td><td>12960</td><td>5450</td><td>450</td><td> 875</td><td>92</td><td>97</td><td> 7.7</td><td>37</td><td>19016</td><td>59</td></tr>\n",
       "\t<tr><th scope=row>Alaska Pacific University</th><td>Yes</td><td> 193</td><td> 146</td><td> 55</td><td>16</td><td>44</td><td> 249</td><td> 869</td><td> 7560</td><td>4120</td><td>800</td><td>1500</td><td>76</td><td>72</td><td>11.9</td><td> 2</td><td>10922</td><td>15</td></tr>\n",
       "\t<tr><th scope=row>Albertson College</th><td>Yes</td><td> 587</td><td> 479</td><td>158</td><td>38</td><td>62</td><td> 678</td><td>  41</td><td>13500</td><td>3335</td><td>500</td><td> 675</td><td>67</td><td>73</td><td> 9.4</td><td>11</td><td> 9727</td><td>55</td></tr>\n",
       "</tbody>\n",
       "</table>\n"
      ],
      "text/latex": [
       "A data.frame: 6 × 18\n",
       "\\begin{tabular}{r|llllllllllllllllll}\n",
       "  & Private & Apps & Accept & Enroll & Top10perc & Top25perc & F.Undergrad & P.Undergrad & Outstate & Room.Board & Books & Personal & PhD & Terminal & S.F.Ratio & perc.alumni & Expend & Grad.Rate\\\\\n",
       "  & <fct> & <dbl> & <dbl> & <dbl> & <dbl> & <dbl> & <dbl> & <dbl> & <dbl> & <dbl> & <dbl> & <dbl> & <dbl> & <dbl> & <dbl> & <dbl> & <dbl> & <dbl>\\\\\n",
       "\\hline\n",
       "\tAbilene Christian University & Yes & 1660 & 1232 & 721 & 23 & 52 & 2885 &  537 &  7440 & 3300 & 450 & 2200 & 70 & 78 & 18.1 & 12 &  7041 & 60\\\\\n",
       "\tAdelphi University & Yes & 2186 & 1924 & 512 & 16 & 29 & 2683 & 1227 & 12280 & 6450 & 750 & 1500 & 29 & 30 & 12.2 & 16 & 10527 & 56\\\\\n",
       "\tAdrian College & Yes & 1428 & 1097 & 336 & 22 & 50 & 1036 &   99 & 11250 & 3750 & 400 & 1165 & 53 & 66 & 12.9 & 30 &  8735 & 54\\\\\n",
       "\tAgnes Scott College & Yes &  417 &  349 & 137 & 60 & 89 &  510 &   63 & 12960 & 5450 & 450 &  875 & 92 & 97 &  7.7 & 37 & 19016 & 59\\\\\n",
       "\tAlaska Pacific University & Yes &  193 &  146 &  55 & 16 & 44 &  249 &  869 &  7560 & 4120 & 800 & 1500 & 76 & 72 & 11.9 &  2 & 10922 & 15\\\\\n",
       "\tAlbertson College & Yes &  587 &  479 & 158 & 38 & 62 &  678 &   41 & 13500 & 3335 & 500 &  675 & 67 & 73 &  9.4 & 11 &  9727 & 55\\\\\n",
       "\\end{tabular}\n"
      ],
      "text/markdown": [
       "\n",
       "A data.frame: 6 × 18\n",
       "\n",
       "| <!--/--> | Private &lt;fct&gt; | Apps &lt;dbl&gt; | Accept &lt;dbl&gt; | Enroll &lt;dbl&gt; | Top10perc &lt;dbl&gt; | Top25perc &lt;dbl&gt; | F.Undergrad &lt;dbl&gt; | P.Undergrad &lt;dbl&gt; | Outstate &lt;dbl&gt; | Room.Board &lt;dbl&gt; | Books &lt;dbl&gt; | Personal &lt;dbl&gt; | PhD &lt;dbl&gt; | Terminal &lt;dbl&gt; | S.F.Ratio &lt;dbl&gt; | perc.alumni &lt;dbl&gt; | Expend &lt;dbl&gt; | Grad.Rate &lt;dbl&gt; |\n",
       "|---|---|---|---|---|---|---|---|---|---|---|---|---|---|---|---|---|---|---|\n",
       "| Abilene Christian University | Yes | 1660 | 1232 | 721 | 23 | 52 | 2885 |  537 |  7440 | 3300 | 450 | 2200 | 70 | 78 | 18.1 | 12 |  7041 | 60 |\n",
       "| Adelphi University | Yes | 2186 | 1924 | 512 | 16 | 29 | 2683 | 1227 | 12280 | 6450 | 750 | 1500 | 29 | 30 | 12.2 | 16 | 10527 | 56 |\n",
       "| Adrian College | Yes | 1428 | 1097 | 336 | 22 | 50 | 1036 |   99 | 11250 | 3750 | 400 | 1165 | 53 | 66 | 12.9 | 30 |  8735 | 54 |\n",
       "| Agnes Scott College | Yes |  417 |  349 | 137 | 60 | 89 |  510 |   63 | 12960 | 5450 | 450 |  875 | 92 | 97 |  7.7 | 37 | 19016 | 59 |\n",
       "| Alaska Pacific University | Yes |  193 |  146 |  55 | 16 | 44 |  249 |  869 |  7560 | 4120 | 800 | 1500 | 76 | 72 | 11.9 |  2 | 10922 | 15 |\n",
       "| Albertson College | Yes |  587 |  479 | 158 | 38 | 62 |  678 |   41 | 13500 | 3335 | 500 |  675 | 67 | 73 |  9.4 | 11 |  9727 | 55 |\n",
       "\n"
      ],
      "text/plain": [
       "                             Private Apps Accept Enroll Top10perc Top25perc\n",
       "Abilene Christian University Yes     1660 1232   721    23        52       \n",
       "Adelphi University           Yes     2186 1924   512    16        29       \n",
       "Adrian College               Yes     1428 1097   336    22        50       \n",
       "Agnes Scott College          Yes      417  349   137    60        89       \n",
       "Alaska Pacific University    Yes      193  146    55    16        44       \n",
       "Albertson College            Yes      587  479   158    38        62       \n",
       "                             F.Undergrad P.Undergrad Outstate Room.Board Books\n",
       "Abilene Christian University 2885         537         7440    3300       450  \n",
       "Adelphi University           2683        1227        12280    6450       750  \n",
       "Adrian College               1036          99        11250    3750       400  \n",
       "Agnes Scott College           510          63        12960    5450       450  \n",
       "Alaska Pacific University     249         869         7560    4120       800  \n",
       "Albertson College             678          41        13500    3335       500  \n",
       "                             Personal PhD Terminal S.F.Ratio perc.alumni Expend\n",
       "Abilene Christian University 2200     70  78       18.1      12           7041 \n",
       "Adelphi University           1500     29  30       12.2      16          10527 \n",
       "Adrian College               1165     53  66       12.9      30           8735 \n",
       "Agnes Scott College           875     92  97        7.7      37          19016 \n",
       "Alaska Pacific University    1500     76  72       11.9       2          10922 \n",
       "Albertson College             675     67  73        9.4      11           9727 \n",
       "                             Grad.Rate\n",
       "Abilene Christian University 60       \n",
       "Adelphi University           56       \n",
       "Adrian College               54       \n",
       "Agnes Scott College          59       \n",
       "Alaska Pacific University    15       \n",
       "Albertson College            55       "
      ]
     },
     "metadata": {},
     "output_type": "display_data"
    }
   ],
   "source": [
    "library(ISLR)\n",
    "df <- College\n",
    "head(df)"
   ]
  },
  {
   "cell_type": "code",
   "execution_count": 9,
   "metadata": {
    "vscode": {
     "languageId": "r"
    }
   },
   "outputs": [
    {
     "data": {
      "image/png": "[encoded data removed]",
      "text/plain": [
       "plot without title"
      ]
     },
     "metadata": {
      "image/png": {
       "height": 420,
       "width": 420
      }
     },
     "output_type": "display_data"
    }
   ],
   "source": [
    "# Scatter Plot of GradRate vs. Room.Board colored by Private\n",
    "library(ggplot2)\n",
    "pl <- ggplot(df, aes(x=Room.Board, y=Grad.Rate, color=Private)) + geom_point()\n",
    "pl"
   ]
  },
  {
   "cell_type": "code",
   "execution_count": 43,
   "metadata": {
    "vscode": {
     "languageId": "r"
    }
   },
   "outputs": [
    {
     "data": {
      "image/png": "[encoded data removed]",
      "text/plain": [
       "plot without title"
      ]
     },
     "metadata": {
      "image/png": {
       "height": 420,
       "width": 420
      }
     },
     "output_type": "display_data"
    }
   ],
   "source": [
    "# Histogram of fulltime undergrad students, color by Private\n",
    "pl2 <- ggplot(df, aes(x=F.Undergrad)) + geom_histogram(aes(fill = Private),color='black',bins=50, position = position_stack(reverse=T)) \n",
    "pl2"
   ]
  },
  {
   "cell_type": "code",
   "execution_count": 48,
   "metadata": {
    "vscode": {
     "languageId": "r"
    }
   },
   "outputs": [
    {
     "data": {
      "image/png": "[encoded data removed]",
      "text/plain": [
       "plot without title"
      ]
     },
     "metadata": {
      "image/png": {
       "height": 420,
       "width": 420
      }
     },
     "output_type": "display_data"
    }
   ],
   "source": [
    "# Histogram of Grad.Rate colored by Private\n",
    "pl3 <- ggplot(df, aes(x=Grad.Rate, fill=Private)) + geom_histogram(color='black', bins=50, position = position_stack(reverse=T))\n",
    "pl3"
   ]
  },
  {
   "attachments": {},
   "cell_type": "markdown",
   "metadata": {},
   "source": [
    "* There is a record with more than 100% grad rate\n"
   ]
  },
  {
   "cell_type": "code",
   "execution_count": 50,
   "metadata": {
    "vscode": {
     "languageId": "r"
    }
   },
   "outputs": [
    {
     "name": "stdout",
     "output_type": "stream",
     "text": [
      "                  Grad.Rate\n",
      "Cazenovia College       118\n"
     ]
    }
   ],
   "source": [
    "library(dplyr)\n",
    "over_100 <- df %>% filter(Grad.Rate > 100) %>% select(Grad.Rate)\n",
    "print(over_100)"
   ]
  },
  {
   "cell_type": "code",
   "execution_count": 53,
   "metadata": {
    "vscode": {
     "languageId": "r"
    }
   },
   "outputs": [
    {
     "data": {
      "text/html": [
       "100"
      ],
      "text/latex": [
       "100"
      ],
      "text/markdown": [
       "100"
      ],
      "text/plain": [
       "[1] 100"
      ]
     },
     "metadata": {},
     "output_type": "display_data"
    }
   ],
   "source": [
    "# Correct the wrong Grad.rate record to 100%\n",
    "df['Cazenovia College', 'Grad.Rate'] <- 100\n",
    "df['Cazenovia College', 'Grad.Rate'] "
   ]
  },
  {
   "attachments": {},
   "cell_type": "markdown",
   "metadata": {},
   "source": [
    "## Train Test Split"
   ]
  },
  {
   "cell_type": "code",
   "execution_count": 55,
   "metadata": {
    "vscode": {
     "languageId": "r"
    }
   },
   "outputs": [],
   "source": [
    "library(caTools)\n",
    "set.seed(101)\n",
    "split <- sample.split(df$Private, SplitRatio = 0.7)\n",
    "train <- filter(df, split == T)\n",
    "test <- filter(df, split == F)"
   ]
  },
  {
   "attachments": {},
   "cell_type": "markdown",
   "metadata": {},
   "source": [
    "## Build Decision Tree"
   ]
  },
  {
   "cell_type": "code",
   "execution_count": 66,
   "metadata": {
    "vscode": {
     "languageId": "r"
    }
   },
   "outputs": [
    {
     "name": "stdout",
     "output_type": "stream",
     "text": [
      "\n",
      "Classification tree:\n",
      "rpart(formula = Private ~ ., data = train, method = \"class\")\n",
      "\n",
      "Variables actually used in tree construction:\n",
      "[1] Accept      Enroll      F.Undergrad Outstate    P.Undergrad Top10perc  \n",
      "\n",
      "Root node error: 148/544 = 0.27206\n",
      "\n",
      "n= 544 \n",
      "\n",
      "        CP nsplit rel error  xerror     xstd\n",
      "1 0.486486      0   1.00000 1.00000 0.070132\n",
      "2 0.216216      1   0.51351 0.63514 0.059581\n",
      "3 0.027027      2   0.29730 0.43919 0.051117\n",
      "4 0.020270      3   0.27027 0.39189 0.048637\n",
      "5 0.010000      8   0.15541 0.37838 0.047890\n",
      "[1] \"----------------------------------------------\"\n",
      "                                                 No       Yes\n",
      "Adrian College                          0.003311258 0.9966887\n",
      "Alfred University                       0.003311258 0.9966887\n",
      "Allegheny College                       0.003311258 0.9966887\n",
      "Allentown Coll. of St. Francis de Sales 0.003311258 0.9966887\n",
      "Alma College                            0.003311258 0.9966887\n",
      "Amherst College                         0.003311258 0.9966887\n",
      "[1] \"----------------------------------------------\"\n",
      "                         Adrian College                       Alfred University \n",
      "                                    Yes                                     Yes \n",
      "                      Allegheny College Allentown Coll. of St. Francis de Sales \n",
      "                                    Yes                                     Yes \n",
      "                           Alma College                         Amherst College \n",
      "                                    Yes                                     Yes \n",
      "Levels: No Yes\n"
     ]
    }
   ],
   "source": [
    "# CART Tree\n",
    "library(rpart)\n",
    "library(rpart.plot)\n",
    "# Build a tree with train dataset\n",
    "tree <- rpart(Private ~., method = 'class', data=train)\n",
    "printcp(tree)\n",
    "print(\"----------------------------------------------\")\n",
    "# Predict with test data\n",
    "predictions <- predict(tree, test)\n",
    "print(head(predictions))\n",
    "print(\"----------------------------------------------\")\n",
    "predictions_classification <- predict(tree, test, type='class')\n",
    "print(head(predictions_classification))"
   ]
  },
  {
   "cell_type": "code",
   "execution_count": 96,
   "metadata": {
    "vscode": {
     "languageId": "r"
    }
   },
   "outputs": [
    {
     "name": "stdout",
     "output_type": "stream",
     "text": [
      "                          \n",
      "predictions_classification  No Yes\n",
      "                       No   57   9\n",
      "                       Yes   7 160\n",
      "[1] \"accuracy\"\n",
      "[1] 0.9313305\n",
      "[1] \"precision\"\n",
      "[1] 0.9467456\n",
      "[1] \"recall\"\n",
      "[1] 0.9580838\n"
     ]
    }
   ],
   "source": [
    "# Confusion Matrix\n",
    "matrix <- table(predictions_classification,test$Private)\n",
    "print(matrix)\n",
    "\n",
    "# Metrics\n",
    "accuracy =  sum(diag(matrix))/ sum(matrix)\n",
    "print('accuracy')\n",
    "print(accuracy)\n",
    "precision = matrix[2,2] / sum(matrix[,2])\n",
    "print('precision')\n",
    "print(precision)\n",
    "print('recall')\n",
    "recall = matrix[2,2] / sum(matrix[2,])\n",
    "print(recall)\n",
    "\n"
   ]
  },
  {
   "cell_type": "code",
   "execution_count": null,
   "metadata": {
    "vscode": {
     "languageId": "r"
    }
   },
   "outputs": [],
   "source": []
  },
  {
   "cell_type": "code",
   "execution_count": 72,
   "metadata": {
    "vscode": {
     "languageId": "r"
    }
   },
   "outputs": [
    {
     "data": {
      "image/png": "[encoded data removed]",
      "text/plain": [
       "plot without title"
      ]
     },
     "metadata": {
      "image/png": {
       "height": 420,
       "width": 420
      }
     },
     "output_type": "display_data"
    }
   ],
   "source": [
    "# Plot the tree model\n",
    "prp(tree,box.palette=\"auto\")"
   ]
  },
  {
   "attachments": {},
   "cell_type": "markdown",
   "metadata": {},
   "source": [
    "## Build Random Forest"
   ]
  },
  {
   "attachments": {},
   "cell_type": "markdown",
   "metadata": {},
   "source": [
    "#### Build a model"
   ]
  },
  {
   "cell_type": "code",
   "execution_count": 73,
   "metadata": {
    "vscode": {
     "languageId": "r"
    }
   },
   "outputs": [
    {
     "name": "stderr",
     "output_type": "stream",
     "text": [
      "randomForest 4.7-1.2\n",
      "\n",
      "Type rfNews() to see new features/changes/bug fixes.\n",
      "\n",
      "\n",
      "Attaching package: 'randomForest'\n",
      "\n",
      "\n",
      "The following object is masked from 'package:dplyr':\n",
      "\n",
      "    combine\n",
      "\n",
      "\n",
      "The following object is masked from 'package:ggplot2':\n",
      "\n",
      "    margin\n",
      "\n",
      "\n"
     ]
    },
    {
     "data": {
      "text/html": [
       "<table class=\"dataframe\">\n",
       "<caption>A matrix: 2 × 3 of type dbl</caption>\n",
       "<thead>\n",
       "\t<tr><th></th><th scope=col>No</th><th scope=col>Yes</th><th scope=col>class.error</th></tr>\n",
       "</thead>\n",
       "<tbody>\n",
       "\t<tr><th scope=row>No</th><td>125</td><td> 23</td><td>0.15540541</td></tr>\n",
       "\t<tr><th scope=row>Yes</th><td> 12</td><td>384</td><td>0.03030303</td></tr>\n",
       "</tbody>\n",
       "</table>\n"
      ],
      "text/latex": [
       "A matrix: 2 × 3 of type dbl\n",
       "\\begin{tabular}{r|lll}\n",
       "  & No & Yes & class.error\\\\\n",
       "\\hline\n",
       "\tNo & 125 &  23 & 0.15540541\\\\\n",
       "\tYes &  12 & 384 & 0.03030303\\\\\n",
       "\\end{tabular}\n"
      ],
      "text/markdown": [
       "\n",
       "A matrix: 2 × 3 of type dbl\n",
       "\n",
       "| <!--/--> | No | Yes | class.error |\n",
       "|---|---|---|---|\n",
       "| No | 125 |  23 | 0.15540541 |\n",
       "| Yes |  12 | 384 | 0.03030303 |\n",
       "\n"
      ],
      "text/plain": [
       "    No  Yes class.error\n",
       "No  125  23 0.15540541 \n",
       "Yes  12 384 0.03030303 "
      ]
     },
     "metadata": {},
     "output_type": "display_data"
    }
   ],
   "source": [
    "library(randomForest)\n",
    "rf.model <- randomForest(Private ~., method='class', data=train, importance=T)\n",
    "# Confusion matrix\n",
    "rf.model$confusion"
   ]
  },
  {
   "cell_type": "code",
   "execution_count": 74,
   "metadata": {
    "vscode": {
     "languageId": "r"
    }
   },
   "outputs": [
    {
     "name": "stdout",
     "output_type": "stream",
     "text": [
      "                     No          Yes MeanDecreaseAccuracy MeanDecreaseGini\n",
      "Apps        0.022046347 0.0135686625         0.0158177906         7.646283\n",
      "Accept      0.027651190 0.0154716761         0.0187306527        11.513935\n",
      "Enroll      0.037271066 0.0315961888         0.0330989552        26.086397\n",
      "Top10perc   0.011004197 0.0043401463         0.0061580815         5.880156\n",
      "Top25perc   0.006828662 0.0033363487         0.0042307103         4.294602\n",
      "F.Undergrad 0.149164734 0.0686210147         0.0902188776        40.746407\n",
      "P.Undergrad 0.041624456 0.0063664936         0.0159799104        15.654392\n",
      "Outstate    0.148179085 0.0598979493         0.0839145714        39.384044\n",
      "Room.Board  0.018510072 0.0148520988         0.0158114040        11.330630\n",
      "Books       0.001843507 0.0003421010         0.0007440975         2.060881\n",
      "Personal    0.004481070 0.0007445565         0.0017344634         3.523296\n",
      "PhD         0.009928737 0.0050882597         0.0064223364         4.694555\n",
      "Terminal    0.001896629 0.0054468925         0.0044787693         4.325995\n",
      "S.F.Ratio   0.035302041 0.0105654916         0.0172742148        16.038356\n",
      "perc.alumni 0.019981356 0.0027564996         0.0073761276         4.945001\n",
      "Expend      0.025745547 0.0115787826         0.0154930726        10.427255\n",
      "Grad.Rate   0.019533403 0.0037888886         0.0081315217         6.776320\n"
     ]
    }
   ],
   "source": [
    "# Check the feature importance\n",
    "print(rf.model$importance)"
   ]
  },
  {
   "attachments": {},
   "cell_type": "markdown",
   "metadata": {},
   "source": [
    "#### Prediction"
   ]
  },
  {
   "cell_type": "code",
   "execution_count": 97,
   "metadata": {
    "vscode": {
     "languageId": "r"
    }
   },
   "outputs": [
    {
     "name": "stdout",
     "output_type": "stream",
     "text": [
      "           \n",
      "predictions  No Yes\n",
      "        No   57   6\n",
      "        Yes   7 163\n",
      "[1] \"accuracy\"\n",
      "[1] 0.944206\n",
      "[1] \"precision\"\n",
      "[1] 0.964497\n",
      "[1] \"recall\"\n",
      "[1] 0.9588235\n"
     ]
    }
   ],
   "source": [
    "predictions <- predict(rf.model, test, type='class')\n",
    "confusion_matrix <- table(predictions,test$Private)\n",
    "print(confusion_matrix)\n",
    "# Metrics\n",
    "accuracy =  sum(diag(confusion_matrix))/ sum(confusion_matrix)\n",
    "print('accuracy')\n",
    "print(accuracy)\n",
    "precision = confusion_matrix[2,2] / sum(confusion_matrix[,2])\n",
    "print('precision')\n",
    "print(precision)\n",
    "print('recall')\n",
    "recall = confusion_matrix[2,2] / sum(confusion_matrix[2,])\n",
    "print(recall)\n"
   ]
  },
  {
   "attachments": {},
   "cell_type": "markdown",
   "metadata": {},
   "source": [
    "##### **Results from a Single Tree:**\n",
    "* Accuracy: 0.9313305\n",
    "* Precision: 0.9467456\n",
    "* Recall: 0.9580838\n",
    "\n",
    "##### **Results from a Single Tree:**\n",
    "* Accuracy: 0.944206\n",
    "* Precision: 0.964497\n",
    "* Recall: 0.9588235\n",
    "\n",
    "##### Evaluation Summary\n",
    "- **The second tree is better overall**, with **higher accuracy and precision** while maintaining similar recall.\n",
    "- The improvements suggest **better decision boundary refinement** in the second tree, possibly due to **tuning parameters or better splits**.\n",
    "- If **false positives are costly**, the second tree is the **better choice** due to its higher precision.\n"
   ]
  }
 ],
 "metadata": {
  "kernelspec": {
   "display_name": "R",
   "language": "R",
   "name": "ir"
  },
  "language_info": {
   "codemirror_mode": "r",
   "file_extension": ".r",
   "mimetype": "text/x-r-source",
   "name": "R",
   "pygments_lexer": "r",
   "version": "4.4.2"
  },
  "orig_nbformat": 4
 },
 "nbformat": 4,
 "nbformat_minor": 2
}
