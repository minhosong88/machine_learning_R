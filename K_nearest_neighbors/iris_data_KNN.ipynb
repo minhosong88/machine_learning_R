{
 "cells": [
  {
   "attachments": {},
   "cell_type": "markdown",
   "metadata": {},
   "source": [
    "# Iris Data KNN Project"
   ]
  },
  {
   "attachments": {},
   "cell_type": "markdown",
   "metadata": {},
   "source": [
    "### Data Load"
   ]
  },
  {
   "cell_type": "code",
   "execution_count": 1,
   "metadata": {
    "vscode": {
     "languageId": "r"
    }
   },
   "outputs": [
    {
     "data": {
      "text/html": [
       "<table class=\"dataframe\">\n",
       "<caption>A data.frame: 6 × 5</caption>\n",
       "<thead>\n",
       "\t<tr><th></th><th scope=col>Sepal.Length</th><th scope=col>Sepal.Width</th><th scope=col>Petal.Length</th><th scope=col>Petal.Width</th><th scope=col>Species</th></tr>\n",
       "\t<tr><th></th><th scope=col>&lt;dbl&gt;</th><th scope=col>&lt;dbl&gt;</th><th scope=col>&lt;dbl&gt;</th><th scope=col>&lt;dbl&gt;</th><th scope=col>&lt;fct&gt;</th></tr>\n",
       "</thead>\n",
       "<tbody>\n",
       "\t<tr><th scope=row>1</th><td>5.1</td><td>3.5</td><td>1.4</td><td>0.2</td><td>setosa</td></tr>\n",
       "\t<tr><th scope=row>2</th><td>4.9</td><td>3.0</td><td>1.4</td><td>0.2</td><td>setosa</td></tr>\n",
       "\t<tr><th scope=row>3</th><td>4.7</td><td>3.2</td><td>1.3</td><td>0.2</td><td>setosa</td></tr>\n",
       "\t<tr><th scope=row>4</th><td>4.6</td><td>3.1</td><td>1.5</td><td>0.2</td><td>setosa</td></tr>\n",
       "\t<tr><th scope=row>5</th><td>5.0</td><td>3.6</td><td>1.4</td><td>0.2</td><td>setosa</td></tr>\n",
       "\t<tr><th scope=row>6</th><td>5.4</td><td>3.9</td><td>1.7</td><td>0.4</td><td>setosa</td></tr>\n",
       "</tbody>\n",
       "</table>\n"
      ],
      "text/latex": [
       "A data.frame: 6 × 5\n",
       "\\begin{tabular}{r|lllll}\n",
       "  & Sepal.Length & Sepal.Width & Petal.Length & Petal.Width & Species\\\\\n",
       "  & <dbl> & <dbl> & <dbl> & <dbl> & <fct>\\\\\n",
       "\\hline\n",
       "\t1 & 5.1 & 3.5 & 1.4 & 0.2 & setosa\\\\\n",
       "\t2 & 4.9 & 3.0 & 1.4 & 0.2 & setosa\\\\\n",
       "\t3 & 4.7 & 3.2 & 1.3 & 0.2 & setosa\\\\\n",
       "\t4 & 4.6 & 3.1 & 1.5 & 0.2 & setosa\\\\\n",
       "\t5 & 5.0 & 3.6 & 1.4 & 0.2 & setosa\\\\\n",
       "\t6 & 5.4 & 3.9 & 1.7 & 0.4 & setosa\\\\\n",
       "\\end{tabular}\n"
      ],
      "text/markdown": [
       "\n",
       "A data.frame: 6 × 5\n",
       "\n",
       "| <!--/--> | Sepal.Length &lt;dbl&gt; | Sepal.Width &lt;dbl&gt; | Petal.Length &lt;dbl&gt; | Petal.Width &lt;dbl&gt; | Species &lt;fct&gt; |\n",
       "|---|---|---|---|---|---|\n",
       "| 1 | 5.1 | 3.5 | 1.4 | 0.2 | setosa |\n",
       "| 2 | 4.9 | 3.0 | 1.4 | 0.2 | setosa |\n",
       "| 3 | 4.7 | 3.2 | 1.3 | 0.2 | setosa |\n",
       "| 4 | 4.6 | 3.1 | 1.5 | 0.2 | setosa |\n",
       "| 5 | 5.0 | 3.6 | 1.4 | 0.2 | setosa |\n",
       "| 6 | 5.4 | 3.9 | 1.7 | 0.4 | setosa |\n",
       "\n"
      ],
      "text/plain": [
       "  Sepal.Length Sepal.Width Petal.Length Petal.Width Species\n",
       "1 5.1          3.5         1.4          0.2         setosa \n",
       "2 4.9          3.0         1.4          0.2         setosa \n",
       "3 4.7          3.2         1.3          0.2         setosa \n",
       "4 4.6          3.1         1.5          0.2         setosa \n",
       "5 5.0          3.6         1.4          0.2         setosa \n",
       "6 5.4          3.9         1.7          0.4         setosa "
      ]
     },
     "metadata": {},
     "output_type": "display_data"
    },
    {
     "name": "stdout",
     "output_type": "stream",
     "text": [
      "'data.frame':\t150 obs. of  5 variables:\n",
      " $ Sepal.Length: num  5.1 4.9 4.7 4.6 5 5.4 4.6 5 4.4 4.9 ...\n",
      " $ Sepal.Width : num  3.5 3 3.2 3.1 3.6 3.9 3.4 3.4 2.9 3.1 ...\n",
      " $ Petal.Length: num  1.4 1.4 1.3 1.5 1.4 1.7 1.4 1.5 1.4 1.5 ...\n",
      " $ Petal.Width : num  0.2 0.2 0.2 0.2 0.2 0.4 0.3 0.2 0.2 0.1 ...\n",
      " $ Species     : Factor w/ 3 levels \"setosa\",\"versicolor\",..: 1 1 1 1 1 1 1 1 1 1 ...\n"
     ]
    }
   ],
   "source": [
    "library(ISLR)\n",
    "\n",
    "df <- iris\n",
    "head(df)\n",
    "str(df)"
   ]
  },
  {
   "attachments": {},
   "cell_type": "markdown",
   "metadata": {},
   "source": [
    "### Standardize Data"
   ]
  },
  {
   "cell_type": "code",
   "execution_count": 2,
   "metadata": {
    "vscode": {
     "languageId": "r"
    }
   },
   "outputs": [
    {
     "name": "stdout",
     "output_type": "stream",
     "text": [
      "             Sepal.Length Sepal.Width\n",
      "Sepal.Length    1.0000000  -0.1175698\n",
      "Sepal.Width    -0.1175698   1.0000000\n"
     ]
    }
   ],
   "source": [
    "target_col <- which(colnames(df) == 'Species' )\n",
    "target <- df[, target_col]\n",
    "data <- df[, -target_col]\n",
    "\n",
    "standardized.data <- scale(data)\n",
    "# Check if standardization has been successful\n",
    "print(var(standardized.data[, 1:2]))"
   ]
  },
  {
   "cell_type": "code",
   "execution_count": 3,
   "metadata": {
    "vscode": {
     "languageId": "r"
    }
   },
   "outputs": [
    {
     "name": "stdout",
     "output_type": "stream",
     "text": [
      " num [1:150, 1:4] -0.898 -1.139 -1.381 -1.501 -1.018 ...\n",
      " - attr(*, \"dimnames\")=List of 2\n",
      "  ..$ : NULL\n",
      "  ..$ : chr [1:4] \"Sepal.Length\" \"Sepal.Width\" \"Petal.Length\" \"Petal.Width\"\n",
      " - attr(*, \"scaled:center\")= Named num [1:4] 5.84 3.06 3.76 1.2\n",
      "  ..- attr(*, \"names\")= chr [1:4] \"Sepal.Length\" \"Sepal.Width\" \"Petal.Length\" \"Petal.Width\"\n",
      " - attr(*, \"scaled:scale\")= Named num [1:4] 0.828 0.436 1.765 0.762\n",
      "  ..- attr(*, \"names\")= chr [1:4] \"Sepal.Length\" \"Sepal.Width\" \"Petal.Length\" \"Petal.Width\"\n",
      "'data.frame':\t150 obs. of  4 variables:\n",
      " $ Sepal.Length: num  -0.898 -1.139 -1.381 -1.501 -1.018 ...\n",
      " $ Sepal.Width : num  1.0156 -0.1315 0.3273 0.0979 1.245 ...\n",
      " $ Petal.Length: num  -1.34 -1.34 -1.39 -1.28 -1.34 ...\n",
      " $ Petal.Width : num  -1.31 -1.31 -1.31 -1.31 -1.31 ...\n",
      "  Sepal.Length Sepal.Width Petal.Length Petal.Width Species\n",
      "1   -0.8976739  1.01560199    -1.335752   -1.311052  setosa\n",
      "2   -1.1392005 -0.13153881    -1.335752   -1.311052  setosa\n",
      "3   -1.3807271  0.32731751    -1.392399   -1.311052  setosa\n",
      "4   -1.5014904  0.09788935    -1.279104   -1.311052  setosa\n",
      "5   -1.0184372  1.24503015    -1.335752   -1.311052  setosa\n",
      "6   -0.5353840  1.93331463    -1.165809   -1.048667  setosa\n"
     ]
    }
   ],
   "source": [
    "# Join target and data together\n",
    "str(standardized.data) #  num [1:150, 1:4], matrix\n",
    "standardized.data <- as.data.frame(standardized.data)\n",
    "str(standardized.data) # data.frame':\t150 obs\n",
    "\n",
    "standardized.data$Species <- factor(target)\n",
    "\n",
    "# Or Simply use standardized.data <- cbind(standardized.data, Species)\n",
    "# cbind converts the matrix into a dataframe\n",
    "\n",
    "print(head(standardized.data))"
   ]
  },
  {
   "attachments": {},
   "cell_type": "markdown",
   "metadata": {},
   "source": [
    "### Train and Test Split"
   ]
  },
  {
   "cell_type": "code",
   "execution_count": 4,
   "metadata": {
    "vscode": {
     "languageId": "r"
    }
   },
   "outputs": [
    {
     "name": "stderr",
     "output_type": "stream",
     "text": [
      "\n",
      "Attaching package: 'dplyr'\n",
      "\n",
      "\n",
      "The following objects are masked from 'package:stats':\n",
      "\n",
      "    filter, lag\n",
      "\n",
      "\n",
      "The following objects are masked from 'package:base':\n",
      "\n",
      "    intersect, setdiff, setequal, union\n",
      "\n",
      "\n"
     ]
    }
   ],
   "source": [
    "library(caTools)\n",
    "library(dplyr)\n",
    "set.seed(101)\n",
    "split <- sample.split(standardized.data$Species, SplitRatio = 0.7)\n",
    "train <- subset(standardized.data, split == T)\n",
    "test <- subset(standardized.data, split == F)\n"
   ]
  },
  {
   "attachments": {},
   "cell_type": "markdown",
   "metadata": {},
   "source": [
    "### Build KNN Model"
   ]
  },
  {
   "cell_type": "code",
   "execution_count": 5,
   "metadata": {
    "vscode": {
     "languageId": "r"
    }
   },
   "outputs": [
    {
     "name": "stdout",
     "output_type": "stream",
     "text": [
      " [1] setosa     setosa     setosa     setosa     setosa     setosa    \n",
      " [7] setosa     setosa     setosa     setosa     setosa     setosa    \n",
      "[13] setosa     setosa     setosa     versicolor versicolor versicolor\n",
      "[19] versicolor versicolor virginica  versicolor versicolor versicolor\n",
      "[25] versicolor versicolor virginica  versicolor versicolor versicolor\n",
      "[31] virginica  virginica  virginica  virginica  virginica  virginica \n",
      "[37] virginica  virginica  virginica  virginica  virginica  virginica \n",
      "[43] virginica  virginica  virginica \n",
      "Levels: setosa versicolor virginica\n"
     ]
    }
   ],
   "source": [
    "# Model with k = 1\n",
    "library(class)\n",
    "predicted.target <- knn(train[,-target_col], test[, -target_col], train$Species, k=1)\n",
    "print(predicted.target)"
   ]
  },
  {
   "cell_type": "code",
   "execution_count": 6,
   "metadata": {
    "vscode": {
     "languageId": "r"
    }
   },
   "outputs": [
    {
     "data": {
      "text/html": [
       "0.0444444444444444"
      ],
      "text/latex": [
       "0.0444444444444444"
      ],
      "text/markdown": [
       "0.0444444444444444"
      ],
      "text/plain": [
       "[1] 0.04444444"
      ]
     },
     "metadata": {},
     "output_type": "display_data"
    }
   ],
   "source": [
    "# Misclassification rate\n",
    "misclass.error <- mean(test$Species != predicted.target)\n",
    "misclass.error"
   ]
  },
  {
   "attachments": {},
   "cell_type": "markdown",
   "metadata": {},
   "source": [
    "### Choosing a K value"
   ]
  },
  {
   "cell_type": "code",
   "execution_count": 7,
   "metadata": {
    "vscode": {
     "languageId": "r"
    }
   },
   "outputs": [
    {
     "name": "stdout",
     "output_type": "stream",
     "text": [
      " [1] 0.04444444 0.06666667 0.02222222 0.02222222 0.02222222 0.04444444\n",
      " [7] 0.04444444 0.04444444 0.04444444 0.02222222\n"
     ]
    }
   ],
   "source": [
    "error.rate <- NULL\n",
    "predicted.target <- NULL\n",
    "\n",
    "for( i in 1:10){\n",
    "  predicted.target <- knn(train[,-target_col], test[, -target_col], train$Species, k=i)\n",
    "  error.rate[i] <-mean(test$Species != predicted.target)\n",
    "}\n",
    "\n",
    "print(error.rate)"
   ]
  },
  {
   "cell_type": "code",
   "execution_count": 8,
   "metadata": {
    "vscode": {
     "languageId": "r"
    }
   },
   "outputs": [
    {
     "data": {
      "image/png": "[encoded data removed]",
      "text/plain": [
       "plot without title"
      ]
     },
     "metadata": {
      "image/png": {
       "height": 420,
       "width": 420
      }
     },
     "output_type": "display_data"
    }
   ],
   "source": [
    "# Scatter plot\n",
    "library(ggplot2)\n",
    "k.value <- 1:10\n",
    "error.df <- data.frame(k.value, error.rate)\n",
    "\n",
    "pl <- ggplot(error.df, aes(x=k.value, y=error.rate)) + geom_point() + geom_line(lty='dotted',color='red')\n",
    "print(pl)"
   ]
  },
  {
   "attachments": {},
   "cell_type": "markdown",
   "metadata": {},
   "source": [
    "##### **Observations from the Graph:**\n",
    "- The **error rate is highest at K = 2**.\n",
    "- The **error rate significantly drops around K = 3 and K = 5**.\n",
    "- There is a **stable error rate** from **K = 5 to K = 9**, but it slightly increases.\n",
    "- At **K = 10**, the error rate drops again.\n",
    "\n",
    "##### **Best K Choice:**\n",
    "- **K = 5** appears to be a strong choice since it has the **lowest error rate**.\n",
    "- **K = 3** is also a good option, but **K = 5** is generally preferred for better generalization.\n",
    "- Higher values (K = 6, 7, 8, 9) show a slightly **higher error rate**, which indicates they might not be the optimal choice.\n",
    "\n",
    "##### **Final Recommendation:**\n",
    "- **Best K = 5**, as it achieves the lowest error rate while avoiding extreme overfitting (small K) or underfitting (large K).\n"
   ]
  },
  {
   "attachments": {},
   "cell_type": "markdown",
   "metadata": {},
   "source": [
    "### Limitation\n",
    "- Due to dataset's limited size, the prediction error rates fluctuate \n",
    "- This is because the smaller the data size is, the more sensitive to k value the prediction is."
   ]
  }
 ],
 "metadata": {
  "kernelspec": {
   "display_name": "R",
   "language": "R",
   "name": "ir"
  },
  "language_info": {
   "codemirror_mode": "r",
   "file_extension": ".r",
   "mimetype": "text/x-r-source",
   "name": "R",
   "pygments_lexer": "r",
   "version": "4.4.2"
  },
  "orig_nbformat": 4
 },
 "nbformat": 4,
 "nbformat_minor": 2
}
